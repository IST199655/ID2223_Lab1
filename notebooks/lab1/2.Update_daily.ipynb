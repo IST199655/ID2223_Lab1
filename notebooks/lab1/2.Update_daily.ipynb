{
 "cells": [
  {
   "cell_type": "markdown",
   "metadata": {},
   "source": [
    "# 2. Update Daily datas"
   ]
  },
  {
   "cell_type": "markdown",
   "metadata": {},
   "source": [
    "## Import necessary libraries"
   ]
  },
  {
   "cell_type": "code",
   "execution_count": 1,
   "metadata": {},
   "outputs": [],
   "source": [
    "\n",
    "\n",
    "from datetime import datetime, timedelta\n",
    "import requests\n",
    "import pandas as pd\n",
    "import hopsworks\n",
    "import os\n",
    "import warnings\n",
    "import openmeteo_requests\n",
    "import requests_cache\n",
    "from retry_requests import retry\n"
   ]
  },
  {
   "cell_type": "markdown",
   "metadata": {},
   "source": [
    "## Get API Key from Hopsworks "
   ]
  },
  {
   "cell_type": "code",
   "execution_count": null,
   "metadata": {},
   "outputs": [
    {
     "name": "stdout",
     "output_type": "stream",
     "text": [
      "Connection closed.\n",
      "Connected. Call `.close()` to terminate connection gracefully.\n",
      "\n",
      "Logged in to project, explore it here https://c.app.hopsworks.ai:443/p/1170583\n",
      "Connected. Call `.close()` to terminate connection gracefully.\n"
     ]
    }
   ],
   "source": [
    "\n",
    "# Get the API key from GitHub Secrets\n",
    "HOPSWORKS_API_KEY = os.getenv('HOPSWORKS_API_KEY')\n",
    "\n",
    "# Get AQI API KEY from secrets of hopsworks\n",
    "proj = hopsworks.login(project=\"ID2223LAB1KTH\")\n",
    "conn = hopsworks.connection(host=\"c.app.hopsworks.ai\", project=proj, api_key_value=os.environ.get('HOPSWORKS_API_KEY'))\n",
    "secrets = conn.get_secrets_api()\n",
    "\n",
    "AQI_API_KEY = secrets.get_secret(\"AQI_API_KEY\").value\n"
   ]
  },
  {
   "cell_type": "markdown",
   "metadata": {},
   "source": [
    "## Set location and fetch air quality forecast for the next days"
   ]
  },
  {
   "cell_type": "code",
   "execution_count": 4,
   "metadata": {},
   "outputs": [],
   "source": [
    "\n",
    "\n",
    "country = \"sweden\"\n",
    "city = \"stockholm\"\n",
    "street = \"stockholm-hornsgatan-108\"\n",
    "aqicn_url = \"https://api.waqi.info/feed/@10009\"\n",
    "\n",
    "# Fetch air quality data from the AQICN API\n",
    "response = requests.get(f\"{aqicn_url}/?token={AQI_API_KEY}\")\n",
    "\n",
    "# Check if the request was successful\n",
    "if response.status_code == 200:\n",
    "    data = response.json()\n",
    "\n",
    "    # 5. Parse the data \n",
    "    pm25_data = data.get(\"data\", {}).get(\"forecast\", {}).get(\"daily\", {}).get(\"pm25\", [])\n",
    "    pm10_data = data.get(\"data\", {}).get(\"forecast\", {}).get(\"daily\", {}).get(\"pm10\", [])\n",
    "\n",
    "    pm25_df = pd.DataFrame(pm25_data)\n",
    "    pm10_df = pd.DataFrame(pm10_data)\n",
    "\n",
    "    pm25_df = pm25_df[['day', 'avg']].rename(columns={'avg': 'pm25'})\n",
    "    pm10_df = pm10_df[['day', 'avg']].rename(columns={'avg': 'pm10'})\n",
    "\n",
    "    df_forecast_aq = pm25_df.merge(pm10_df, on=\"day\", how=\"inner\").drop(index=0)\n",
    "    df_forecast_aq[['pm25', 'pm10']] = df_forecast_aq[['pm25', 'pm10']].astype(int)\n",
    "   \n",
    "    df_forecast_aq['day'] = pd.to_datetime(df_forecast_aq['day'])\n",
    "    df_forecast_aq.rename(columns={'day': 'date'}, inplace=True)\n"
   ]
  },
  {
   "cell_type": "markdown",
   "metadata": {},
   "source": [
    "## Fetch weather forecast for the next days and yesterday"
   ]
  },
  {
   "cell_type": "code",
   "execution_count": 5,
   "metadata": {},
   "outputs": [
    {
     "name": "stdout",
     "output_type": "stream",
     "text": [
      "Coordinates 59.32889938354492°N 18.072357177734375°E\n",
      "Elevation 24.0 m asl\n",
      "Timezone None None\n",
      "Timezone difference to GMT+0 0 s\n"
     ]
    }
   ],
   "source": [
    "\n",
    "\n",
    "# Setup the Open-Meteo API client with cache and retry on error\n",
    "cache_session = requests_cache.CachedSession('.cache', expire_after=3600)\n",
    "retry_session = retry(cache_session, retries=5, backoff_factor=0.2)\n",
    "openmeteo = openmeteo_requests.Client(session=retry_session)\n",
    "\n",
    "latitude = 59.3293\n",
    "longitude = 18.0686\n",
    "\n",
    "\n",
    "url = \"https://api.open-meteo.com/v1/forecast\"\n",
    "params = {\n",
    "    \"latitude\": latitude,\n",
    "    \"longitude\": longitude,\n",
    "    \"daily\": [\"temperature_2m_max\", \"temperature_2m_min\", \"precipitation_sum\", \"wind_speed_10m_max\", \"wind_direction_10m_dominant\"],\n",
    "    \"past_days\": 1\n",
    "}\n",
    "responses = openmeteo.weather_api(url, params=params)\n",
    "\n",
    "\n",
    "response = responses[0]\n",
    "print(f\"Coordinates {response.Latitude()}°N {response.Longitude()}°E\")\n",
    "print(f\"Elevation {response.Elevation()} m asl\")\n",
    "print(f\"Timezone {response.Timezone()} {response.TimezoneAbbreviation()}\")\n",
    "print(f\"Timezone difference to GMT+0 {response.UtcOffsetSeconds()} s\")\n",
    "\n",
    "\n",
    "daily = response.Daily()\n",
    "daily_temperature_2m_max = daily.Variables(0).ValuesAsNumpy()\n",
    "daily_temperature_2m_min = daily.Variables(1).ValuesAsNumpy()\n",
    "daily_precipitation_sum = daily.Variables(2).ValuesAsNumpy()\n",
    "daily_wind_speed_10m_max = daily.Variables(3).ValuesAsNumpy()\n",
    "daily_wind_direction_10m_dominant = daily.Variables(4).ValuesAsNumpy()\n",
    "\n",
    "daily_data = {\"date\": pd.date_range(\n",
    "    start=pd.to_datetime(daily.Time(), unit=\"s\"),\n",
    "    end=pd.to_datetime(daily.TimeEnd(), unit=\"s\"),\n",
    "    freq=pd.Timedelta(seconds=daily.Interval()),\n",
    "    inclusive=\"left\"\n",
    ")}\n",
    "\n",
    "daily_data[\"temperature_2m_max\"] = daily_temperature_2m_max\n",
    "daily_data[\"temperature_2m_min\"] = daily_temperature_2m_min\n",
    "daily_data[\"precipitation_sum\"] = daily_precipitation_sum\n",
    "daily_data[\"wind_speed_10m_max\"] = daily_wind_speed_10m_max\n",
    "daily_data[\"wind_direction_10m_dominant\"] = daily_wind_direction_10m_dominant\n",
    "\n",
    "df_forecast_weather = pd.DataFrame(data=daily_data)\n"
   ]
  },
  {
   "cell_type": "markdown",
   "metadata": {},
   "source": [
    "## Update the Feature Groups in Hopsworks"
   ]
  },
  {
   "cell_type": "code",
   "execution_count": 6,
   "metadata": {},
   "outputs": [
    {
     "name": "stdout",
     "output_type": "stream",
     "text": [
      "Connected. Call `.close()` to terminate connection gracefully.\n"
     ]
    },
    {
     "data": {
      "application/vnd.jupyter.widget-view+json": {
       "model_id": "e20f07b8061f44528f5db89c330a561e",
       "version_major": 2,
       "version_minor": 0
      },
      "text/plain": [
       "Uploading Dataframe: 0.00% |          | Rows 0/8 | Elapsed Time: 00:00 | Remaining Time: ?"
      ]
     },
     "metadata": {},
     "output_type": "display_data"
    },
    {
     "name": "stdout",
     "output_type": "stream",
     "text": [
      "Launching job: stockholm_weather_1_offline_fg_materialization\n",
      "Job started successfully, you can follow the progress at \n",
      "https://c.app.hopsworks.ai/p/1170583/jobs/named/stockholm_weather_1_offline_fg_materialization/executions\n"
     ]
    },
    {
     "data": {
      "application/vnd.jupyter.widget-view+json": {
       "model_id": "6a3b2dc7a5084abbae4201dd89c07095",
       "version_major": 2,
       "version_minor": 0
      },
      "text/plain": [
       "Uploading Dataframe: 0.00% |          | Rows 0/7 | Elapsed Time: 00:00 | Remaining Time: ?"
      ]
     },
     "metadata": {},
     "output_type": "display_data"
    },
    {
     "name": "stdout",
     "output_type": "stream",
     "text": [
      "Launching job: stockholm_air_quality_1_offline_fg_materialization\n",
      "Job started successfully, you can follow the progress at \n",
      "https://c.app.hopsworks.ai/p/1170583/jobs/named/stockholm_air_quality_1_offline_fg_materialization/executions\n"
     ]
    },
    {
     "data": {
      "text/plain": [
       "(<hsfs.core.job.Job at 0x7804f7ac4b20>, None)"
      ]
     },
     "execution_count": 6,
     "metadata": {},
     "output_type": "execute_result"
    }
   ],
   "source": [
    "\n",
    "# Initialize the feature store\n",
    "fs = proj.get_feature_store()\n",
    "\n",
    "# Define and insert the Forecast Weather Feature Group\n",
    "feature_group_name = \"stockholm_weather\"\n",
    "version = 1\n",
    "fg = fs.get_feature_group(name=feature_group_name, version=version)\n",
    "fg.insert(df_forecast_weather)\n",
    "\n",
    "# Define and insert the Air Quality Feature Group\n",
    "feature_group_name = \"stockholm_air_quality\"\n",
    "version = 1\n",
    "fg = fs.get_feature_group(name=feature_group_name, version=version)\n",
    "fg.insert(df_forecast_aq)\n"
   ]
  }
 ],
 "metadata": {
  "kernelspec": {
   "display_name": "Python 3",
   "language": "python",
   "name": "python3"
  },
  "language_info": {
   "codemirror_mode": {
    "name": "ipython",
    "version": 3
   },
   "file_extension": ".py",
   "mimetype": "text/x-python",
   "name": "python",
   "nbconvert_exporter": "python",
   "pygments_lexer": "ipython3",
   "version": "3.9.5"
  }
 },
 "nbformat": 4,
 "nbformat_minor": 2
}
