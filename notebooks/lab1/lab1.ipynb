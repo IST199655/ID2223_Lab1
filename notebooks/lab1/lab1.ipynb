{
 "cells": [
  {
   "cell_type": "markdown",
   "metadata": {},
   "source": [
    "# LAB 1"
   ]
  },
  {
   "cell_type": "code",
   "execution_count": 27,
   "metadata": {},
   "outputs": [],
   "source": [
    "import datetime\n",
    "import requests\n",
    "import pandas as pd\n",
    "import hopsworks\n",
    "import datetime\n",
    "from pathlib import Path\n",
    "from functions import util\n",
    "import json\n",
    "import re\n",
    "import os\n",
    "import warnings\n",
    "warnings.filterwarnings(\"ignore\")"
   ]
  },
  {
   "cell_type": "markdown",
   "metadata": {},
   "source": [
    "## 1.Backfill feature pipeline"
   ]
  },
  {
   "cell_type": "markdown",
   "metadata": {},
   "source": [
    "Write a backfill feature pipeline that downloads historical weather data (ideally >1\n",
    "year of data), loads a csv file with historical air quality data (downloaded from\n",
    "https://aqicn.org) and registers them as 2 Feature Groups with Hopsworks."
   ]
  },
  {
   "cell_type": "markdown",
   "metadata": {},
   "source": [
    "### 1.1 Import air quality data on 5 years at Stockholm"
   ]
  },
  {
   "cell_type": "code",
   "execution_count": 28,
   "metadata": {},
   "outputs": [
    {
     "data": {
      "text/html": [
       "<div>\n",
       "<style scoped>\n",
       "    .dataframe tbody tr th:only-of-type {\n",
       "        vertical-align: middle;\n",
       "    }\n",
       "\n",
       "    .dataframe tbody tr th {\n",
       "        vertical-align: top;\n",
       "    }\n",
       "\n",
       "    .dataframe thead th {\n",
       "        text-align: right;\n",
       "    }\n",
       "</style>\n",
       "<table border=\"1\" class=\"dataframe\">\n",
       "  <thead>\n",
       "    <tr style=\"text-align: right;\">\n",
       "      <th></th>\n",
       "      <th>date</th>\n",
       "      <th>pm25</th>\n",
       "      <th>pm10</th>\n",
       "    </tr>\n",
       "  </thead>\n",
       "  <tbody>\n",
       "    <tr>\n",
       "      <th>0</th>\n",
       "      <td>2024-11-01</td>\n",
       "      <td>8</td>\n",
       "      <td>3</td>\n",
       "    </tr>\n",
       "    <tr>\n",
       "      <th>1</th>\n",
       "      <td>2024-11-02</td>\n",
       "      <td>5</td>\n",
       "      <td>3</td>\n",
       "    </tr>\n",
       "    <tr>\n",
       "      <th>2</th>\n",
       "      <td>2024-11-03</td>\n",
       "      <td>6</td>\n",
       "      <td>6</td>\n",
       "    </tr>\n",
       "    <tr>\n",
       "      <th>3</th>\n",
       "      <td>2024-11-04</td>\n",
       "      <td>7</td>\n",
       "      <td>4</td>\n",
       "    </tr>\n",
       "    <tr>\n",
       "      <th>4</th>\n",
       "      <td>2024-11-05</td>\n",
       "      <td>11</td>\n",
       "      <td>6</td>\n",
       "    </tr>\n",
       "  </tbody>\n",
       "</table>\n",
       "</div>"
      ],
      "text/plain": [
       "        date  pm25  pm10\n",
       "0 2024-11-01     8     3\n",
       "1 2024-11-02     5     3\n",
       "2 2024-11-03     6     6\n",
       "3 2024-11-04     7     4\n",
       "4 2024-11-05    11     6"
      ]
     },
     "execution_count": 28,
     "metadata": {},
     "output_type": "execute_result"
    }
   ],
   "source": [
    "air_quality_df = pd.read_csv(\"../../data/stockholm-hornsgatan 108 gata-air-quality.csv\")\n",
    "\n",
    "air_quality_df['date'] = pd.to_datetime(air_quality_df['date'], format='%Y/%m/%d')\n",
    "\n",
    "# Handle non-numeric values in 'pm25' and 'pm10', replace them with NaN\n",
    "air_quality_df['pm25'] = pd.to_numeric(air_quality_df['pm25'], errors='coerce')\n",
    "air_quality_df['pm10'] = pd.to_numeric(air_quality_df['pm10'], errors='coerce')\n",
    "\n",
    "# Fill NaN values with 0 (or use mean or another method depending on your choice)\n",
    "air_quality_df['pm25'].fillna(0, inplace=True)\n",
    "air_quality_df['pm10'].fillna(0, inplace=True)\n",
    "\n",
    "# Convert 'pm25' and 'pm10' columns to integers\n",
    "air_quality_df['pm25'] = air_quality_df['pm25'].astype(int)\n",
    "air_quality_df['pm10'] = air_quality_df['pm10'].astype(int)\n",
    "\n",
    "\n",
    "air_quality_df = air_quality_df.drop(columns=['no2'])\n",
    "\n",
    "\n",
    "air_quality_df.head()"
   ]
  },
  {
   "cell_type": "markdown",
   "metadata": {},
   "source": [
    "### 1.2 Import weather data on one year at Stockholm"
   ]
  },
  {
   "cell_type": "code",
   "execution_count": 29,
   "metadata": {},
   "outputs": [
    {
     "name": "stdout",
     "output_type": "stream",
     "text": [
      "Coordinates 59.29701232910156°N 18.163265228271484°E\n",
      "Elevation 24.0 m asl\n",
      "Timezone None None\n",
      "Timezone difference to GMT+0 0 s\n"
     ]
    },
    {
     "data": {
      "text/html": [
       "<div>\n",
       "<style scoped>\n",
       "    .dataframe tbody tr th:only-of-type {\n",
       "        vertical-align: middle;\n",
       "    }\n",
       "\n",
       "    .dataframe tbody tr th {\n",
       "        vertical-align: top;\n",
       "    }\n",
       "\n",
       "    .dataframe thead th {\n",
       "        text-align: right;\n",
       "    }\n",
       "</style>\n",
       "<table border=\"1\" class=\"dataframe\">\n",
       "  <thead>\n",
       "    <tr style=\"text-align: right;\">\n",
       "      <th></th>\n",
       "      <th>date</th>\n",
       "      <th>temperature_2m_mean</th>\n",
       "      <th>precipitation_sum</th>\n",
       "      <th>wind_speed_10m_max</th>\n",
       "      <th>wind_direction_10m_dominant</th>\n",
       "    </tr>\n",
       "  </thead>\n",
       "  <tbody>\n",
       "    <tr>\n",
       "      <th>0</th>\n",
       "      <td>2017-10-03</td>\n",
       "      <td>11.925418</td>\n",
       "      <td>0.500000</td>\n",
       "      <td>18.391737</td>\n",
       "      <td>209.271942</td>\n",
       "    </tr>\n",
       "    <tr>\n",
       "      <th>1</th>\n",
       "      <td>2017-10-04</td>\n",
       "      <td>10.548332</td>\n",
       "      <td>2.900000</td>\n",
       "      <td>22.206486</td>\n",
       "      <td>248.656326</td>\n",
       "    </tr>\n",
       "    <tr>\n",
       "      <th>2</th>\n",
       "      <td>2017-10-05</td>\n",
       "      <td>8.394166</td>\n",
       "      <td>2.600000</td>\n",
       "      <td>16.595179</td>\n",
       "      <td>306.521240</td>\n",
       "    </tr>\n",
       "    <tr>\n",
       "      <th>3</th>\n",
       "      <td>2017-10-06</td>\n",
       "      <td>8.208749</td>\n",
       "      <td>0.500000</td>\n",
       "      <td>23.871555</td>\n",
       "      <td>320.408325</td>\n",
       "    </tr>\n",
       "    <tr>\n",
       "      <th>4</th>\n",
       "      <td>2017-10-07</td>\n",
       "      <td>6.092083</td>\n",
       "      <td>6.300001</td>\n",
       "      <td>14.332341</td>\n",
       "      <td>343.018829</td>\n",
       "    </tr>\n",
       "    <tr>\n",
       "      <th>...</th>\n",
       "      <td>...</td>\n",
       "      <td>...</td>\n",
       "      <td>...</td>\n",
       "      <td>...</td>\n",
       "      <td>...</td>\n",
       "    </tr>\n",
       "    <tr>\n",
       "      <th>2593</th>\n",
       "      <td>2024-11-08</td>\n",
       "      <td>5.229583</td>\n",
       "      <td>0.000000</td>\n",
       "      <td>13.864674</td>\n",
       "      <td>257.650360</td>\n",
       "    </tr>\n",
       "    <tr>\n",
       "      <th>2594</th>\n",
       "      <td>2024-11-09</td>\n",
       "      <td>5.579584</td>\n",
       "      <td>0.000000</td>\n",
       "      <td>14.428097</td>\n",
       "      <td>257.365479</td>\n",
       "    </tr>\n",
       "    <tr>\n",
       "      <th>2595</th>\n",
       "      <td>2024-11-10</td>\n",
       "      <td>5.473333</td>\n",
       "      <td>0.100000</td>\n",
       "      <td>9.292255</td>\n",
       "      <td>145.380463</td>\n",
       "    </tr>\n",
       "    <tr>\n",
       "      <th>2596</th>\n",
       "      <td>2024-11-11</td>\n",
       "      <td>4.869166</td>\n",
       "      <td>1.100000</td>\n",
       "      <td>9.676569</td>\n",
       "      <td>234.773972</td>\n",
       "    </tr>\n",
       "    <tr>\n",
       "      <th>2597</th>\n",
       "      <td>2024-11-12</td>\n",
       "      <td>3.031667</td>\n",
       "      <td>0.000000</td>\n",
       "      <td>10.990322</td>\n",
       "      <td>288.903290</td>\n",
       "    </tr>\n",
       "  </tbody>\n",
       "</table>\n",
       "<p>2598 rows × 5 columns</p>\n",
       "</div>"
      ],
      "text/plain": [
       "           date  temperature_2m_mean  precipitation_sum  wind_speed_10m_max  \\\n",
       "0    2017-10-03            11.925418           0.500000           18.391737   \n",
       "1    2017-10-04            10.548332           2.900000           22.206486   \n",
       "2    2017-10-05             8.394166           2.600000           16.595179   \n",
       "3    2017-10-06             8.208749           0.500000           23.871555   \n",
       "4    2017-10-07             6.092083           6.300001           14.332341   \n",
       "...         ...                  ...                ...                 ...   \n",
       "2593 2024-11-08             5.229583           0.000000           13.864674   \n",
       "2594 2024-11-09             5.579584           0.000000           14.428097   \n",
       "2595 2024-11-10             5.473333           0.100000            9.292255   \n",
       "2596 2024-11-11             4.869166           1.100000            9.676569   \n",
       "2597 2024-11-12             3.031667           0.000000           10.990322   \n",
       "\n",
       "      wind_direction_10m_dominant  \n",
       "0                      209.271942  \n",
       "1                      248.656326  \n",
       "2                      306.521240  \n",
       "3                      320.408325  \n",
       "4                      343.018829  \n",
       "...                           ...  \n",
       "2593                   257.650360  \n",
       "2594                   257.365479  \n",
       "2595                   145.380463  \n",
       "2596                   234.773972  \n",
       "2597                   288.903290  \n",
       "\n",
       "[2598 rows x 5 columns]"
      ]
     },
     "execution_count": 29,
     "metadata": {},
     "output_type": "execute_result"
    }
   ],
   "source": [
    "import requests\n",
    "import pandas as pd\n",
    "import json\n",
    "from datetime import datetime, timedelta\n",
    "\n",
    "# Coordinates of Stockholm and date range for historical data\n",
    "latitude = 59.3293\n",
    "longitude = 18.0686\n",
    "today = datetime.today().date()\n",
    "start_date = today - timedelta(days=365)\n",
    "end_date = today - timedelta(days=2)\n",
    "\n",
    "country=\"sweden\"\n",
    "city = \"stockholm\"\n",
    "street = \"stockholm-hornsgatan-108\"\n",
    "aqicn_url=\"https://api.waqi.info/feed/@10009\"\n",
    "\n",
    "earliest_aq_date = pd.Series.min(air_quality_df['date'])\n",
    "earliest_aq_date = earliest_aq_date.strftime('%Y-%m-%d')\n",
    "\n",
    "# Calculate daily average temperature\n",
    "df_weather = util.get_historical_weather(city, earliest_aq_date, str(today), latitude, longitude)\n",
    "\n",
    "# Print the result\n",
    "df_weather = df_weather.drop(columns='city')\n",
    "\n",
    "df_weather\n",
    "\n"
   ]
  },
  {
   "cell_type": "markdown",
   "metadata": {},
   "source": [
    "### 1.3 Connection to hopsworks"
   ]
  },
  {
   "cell_type": "code",
   "execution_count": 30,
   "metadata": {},
   "outputs": [],
   "source": [
    "import hopsworks\n",
    "\n",
    "with open('../../data/hopsworks-api-key.txt', 'r') as file:\n",
    "    os.environ[\"HOPSWORKS_API_KEY\"] = file.read().rstrip()"
   ]
  },
  {
   "cell_type": "code",
   "execution_count": 31,
   "metadata": {},
   "outputs": [
    {
     "name": "stdout",
     "output_type": "stream",
     "text": [
      "Connection closed.\n",
      "Connected. Call `.close()` to terminate connection gracefully.\n",
      "\n",
      "Logged in to project, explore it here https://c.app.hopsworks.ai:443/p/1170583\n",
      "Connected. Call `.close()` to terminate connection gracefully.\n"
     ]
    }
   ],
   "source": [
    "\n",
    "\n",
    "project = hopsworks.login(project=\"ID2223LAB1KTH\")\n",
    "fs = project.get_feature_store()\n"
   ]
  },
  {
   "cell_type": "code",
   "execution_count": null,
   "metadata": {},
   "outputs": [
    {
     "data": {
      "application/vnd.jupyter.widget-view+json": {
       "model_id": "1b01e4500c1c473ab3b075c93a49e196",
       "version_major": 2,
       "version_minor": 0
      },
      "text/plain": [
       "Uploading Dataframe: 0.00% |          | Rows 0/2598 | Elapsed Time: 00:00 | Remaining Time: ?"
      ]
     },
     "metadata": {},
     "output_type": "display_data"
    },
    {
     "name": "stdout",
     "output_type": "stream",
     "text": [
      "Launching job: stockholm_weather_1_offline_fg_materialization\n",
      "Job started successfully, you can follow the progress at \n",
      "https://c.app.hopsworks.ai/p/1170583/jobs/named/stockholm_weather_1_offline_fg_materialization/executions\n",
      "Weather feature group created and data inserted successfully.\n"
     ]
    }
   ],
   "source": [
    "# Create a weather data feature group\n",
    "weather_fg = fs.create_feature_group(\n",
    "    name=\"stockholm_weather\",\n",
    "    version=1,\n",
    "    description=\"Weather data for Stockholm including temperature, humidity, wind speed, and wind direction\",\n",
    "    primary_key=[\"date\"],  \n",
    "    event_time=\"date\" \n",
    ")\n",
    "\n",
    "\n",
    "weather_fg.insert(df_weather)\n",
    "\n",
    "print(\"Weather feature group created and data inserted successfully.\")\n"
   ]
  },
  {
   "cell_type": "code",
   "execution_count": 24,
   "metadata": {},
   "outputs": [
    {
     "name": "stdout",
     "output_type": "stream",
     "text": [
      "Feature Group created successfully, explore it at \n",
      "https://c.app.hopsworks.ai:443/p/1170583/fs/1161286/fg/1347950\n"
     ]
    },
    {
     "data": {
      "application/vnd.jupyter.widget-view+json": {
       "model_id": "af8c8198bd9143f68412ed4f7a3cb5af",
       "version_major": 2,
       "version_minor": 0
      },
      "text/plain": [
       "Uploading Dataframe: 0.00% |          | Rows 0/2557 | Elapsed Time: 00:00 | Remaining Time: ?"
      ]
     },
     "metadata": {},
     "output_type": "display_data"
    },
    {
     "name": "stdout",
     "output_type": "stream",
     "text": [
      "Launching job: stockholm_air_quality_1_offline_fg_materialization\n",
      "Job started successfully, you can follow the progress at \n",
      "https://c.app.hopsworks.ai/p/1170583/jobs/named/stockholm_air_quality_1_offline_fg_materialization/executions\n",
      "Air quality feature group created and data inserted successfully.\n"
     ]
    }
   ],
   "source": [
    "\n",
    "air_quality_fg = fs.create_feature_group(\n",
    "    name=\"stockholm_air_quality\",\n",
    "    version=1,\n",
    "    description=\"Air quality data for Stockholm with PM2.5 concentrations\",\n",
    "    primary_key=[\"date\"],  # 'time' column as the primary key\n",
    "    event_time=\"date\"      # Specify 'time' as the event time\n",
    ")\n",
    "\n",
    "\n",
    "air_quality_fg.insert(air_quality_df)\n",
    "\n",
    "print(\"Air quality feature group created and data inserted successfully.\")\n"
   ]
  },
  {
   "cell_type": "markdown",
   "metadata": {},
   "source": [
    "## 2. Schedule a daily feature pipeline"
   ]
  },
  {
   "cell_type": "markdown",
   "metadata": {},
   "source": [
    "In .github/workflows"
   ]
  },
  {
   "cell_type": "markdown",
   "metadata": {},
   "source": [
    "## 3.Write a training pipeline"
   ]
  },
  {
   "cell_type": "code",
   "execution_count": 37,
   "metadata": {},
   "outputs": [
    {
     "name": "stdout",
     "output_type": "stream",
     "text": [
      "Finished: Reading data from Hopsworks, using Hopsworks Feature Query Service (0.87s) \n",
      "Finished: Reading data from Hopsworks, using Hopsworks Feature Query Service (0.85s) \n"
     ]
    },
    {
     "data": {
      "text/html": [
       "<div>\n",
       "<style scoped>\n",
       "    .dataframe tbody tr th:only-of-type {\n",
       "        vertical-align: middle;\n",
       "    }\n",
       "\n",
       "    .dataframe tbody tr th {\n",
       "        vertical-align: top;\n",
       "    }\n",
       "\n",
       "    .dataframe thead th {\n",
       "        text-align: right;\n",
       "    }\n",
       "</style>\n",
       "<table border=\"1\" class=\"dataframe\">\n",
       "  <thead>\n",
       "    <tr style=\"text-align: right;\">\n",
       "      <th></th>\n",
       "      <th>date</th>\n",
       "      <th>pm25</th>\n",
       "      <th>pm10</th>\n",
       "      <th>temperature_2m_mean</th>\n",
       "      <th>precipitation_sum</th>\n",
       "      <th>wind_speed_10m_max</th>\n",
       "      <th>wind_direction_10m_dominant</th>\n",
       "    </tr>\n",
       "  </thead>\n",
       "  <tbody>\n",
       "    <tr>\n",
       "      <th>0</th>\n",
       "      <td>2023-01-23 00:00:00+00:00</td>\n",
       "      <td>42</td>\n",
       "      <td>7</td>\n",
       "      <td>-4.230833</td>\n",
       "      <td>0.0</td>\n",
       "      <td>18.079027</td>\n",
       "      <td>241.394394</td>\n",
       "    </tr>\n",
       "    <tr>\n",
       "      <th>1</th>\n",
       "      <td>2023-05-27 00:00:00+00:00</td>\n",
       "      <td>16</td>\n",
       "      <td>23</td>\n",
       "      <td>12.208749</td>\n",
       "      <td>0.0</td>\n",
       "      <td>19.245697</td>\n",
       "      <td>193.671310</td>\n",
       "    </tr>\n",
       "    <tr>\n",
       "      <th>2</th>\n",
       "      <td>2019-09-24 00:00:00+00:00</td>\n",
       "      <td>10</td>\n",
       "      <td>9</td>\n",
       "      <td>9.562917</td>\n",
       "      <td>0.0</td>\n",
       "      <td>11.113451</td>\n",
       "      <td>191.237717</td>\n",
       "    </tr>\n",
       "    <tr>\n",
       "      <th>3</th>\n",
       "      <td>2018-06-14 00:00:00+00:00</td>\n",
       "      <td>20</td>\n",
       "      <td>23</td>\n",
       "      <td>16.552500</td>\n",
       "      <td>0.0</td>\n",
       "      <td>24.336637</td>\n",
       "      <td>180.159409</td>\n",
       "    </tr>\n",
       "    <tr>\n",
       "      <th>4</th>\n",
       "      <td>2019-11-17 00:00:00+00:00</td>\n",
       "      <td>40</td>\n",
       "      <td>19</td>\n",
       "      <td>6.633749</td>\n",
       "      <td>0.2</td>\n",
       "      <td>22.267679</td>\n",
       "      <td>199.835754</td>\n",
       "    </tr>\n",
       "    <tr>\n",
       "      <th>...</th>\n",
       "      <td>...</td>\n",
       "      <td>...</td>\n",
       "      <td>...</td>\n",
       "      <td>...</td>\n",
       "      <td>...</td>\n",
       "      <td>...</td>\n",
       "      <td>...</td>\n",
       "    </tr>\n",
       "    <tr>\n",
       "      <th>2550</th>\n",
       "      <td>2022-01-29 00:00:00+00:00</td>\n",
       "      <td>8</td>\n",
       "      <td>2</td>\n",
       "      <td>2.225417</td>\n",
       "      <td>10.7</td>\n",
       "      <td>23.688984</td>\n",
       "      <td>215.975143</td>\n",
       "    </tr>\n",
       "    <tr>\n",
       "      <th>2551</th>\n",
       "      <td>2019-06-01 00:00:00+00:00</td>\n",
       "      <td>14</td>\n",
       "      <td>10</td>\n",
       "      <td>12.327500</td>\n",
       "      <td>3.6</td>\n",
       "      <td>18.861387</td>\n",
       "      <td>225.602020</td>\n",
       "    </tr>\n",
       "    <tr>\n",
       "      <th>2552</th>\n",
       "      <td>2019-10-09 00:00:00+00:00</td>\n",
       "      <td>21</td>\n",
       "      <td>11</td>\n",
       "      <td>6.500416</td>\n",
       "      <td>1.7</td>\n",
       "      <td>11.609651</td>\n",
       "      <td>98.886917</td>\n",
       "    </tr>\n",
       "    <tr>\n",
       "      <th>2553</th>\n",
       "      <td>2019-02-02 00:00:00+00:00</td>\n",
       "      <td>39</td>\n",
       "      <td>9</td>\n",
       "      <td>0.490000</td>\n",
       "      <td>5.7</td>\n",
       "      <td>18.723461</td>\n",
       "      <td>80.114799</td>\n",
       "    </tr>\n",
       "    <tr>\n",
       "      <th>2554</th>\n",
       "      <td>2017-12-01 00:00:00+00:00</td>\n",
       "      <td>12</td>\n",
       "      <td>3</td>\n",
       "      <td>1.321250</td>\n",
       "      <td>0.4</td>\n",
       "      <td>20.730501</td>\n",
       "      <td>347.482971</td>\n",
       "    </tr>\n",
       "  </tbody>\n",
       "</table>\n",
       "<p>2555 rows × 7 columns</p>\n",
       "</div>"
      ],
      "text/plain": [
       "                          date  pm25  pm10  temperature_2m_mean  \\\n",
       "0    2023-01-23 00:00:00+00:00    42     7            -4.230833   \n",
       "1    2023-05-27 00:00:00+00:00    16    23            12.208749   \n",
       "2    2019-09-24 00:00:00+00:00    10     9             9.562917   \n",
       "3    2018-06-14 00:00:00+00:00    20    23            16.552500   \n",
       "4    2019-11-17 00:00:00+00:00    40    19             6.633749   \n",
       "...                        ...   ...   ...                  ...   \n",
       "2550 2022-01-29 00:00:00+00:00     8     2             2.225417   \n",
       "2551 2019-06-01 00:00:00+00:00    14    10            12.327500   \n",
       "2552 2019-10-09 00:00:00+00:00    21    11             6.500416   \n",
       "2553 2019-02-02 00:00:00+00:00    39     9             0.490000   \n",
       "2554 2017-12-01 00:00:00+00:00    12     3             1.321250   \n",
       "\n",
       "      precipitation_sum  wind_speed_10m_max  wind_direction_10m_dominant  \n",
       "0                   0.0           18.079027                   241.394394  \n",
       "1                   0.0           19.245697                   193.671310  \n",
       "2                   0.0           11.113451                   191.237717  \n",
       "3                   0.0           24.336637                   180.159409  \n",
       "4                   0.2           22.267679                   199.835754  \n",
       "...                 ...                 ...                          ...  \n",
       "2550               10.7           23.688984                   215.975143  \n",
       "2551                3.6           18.861387                   225.602020  \n",
       "2552                1.7           11.609651                    98.886917  \n",
       "2553                5.7           18.723461                    80.114799  \n",
       "2554                0.4           20.730501                   347.482971  \n",
       "\n",
       "[2555 rows x 7 columns]"
      ]
     },
     "execution_count": 37,
     "metadata": {},
     "output_type": "execute_result"
    }
   ],
   "source": [
    "# Load the Feature Groups for air quality and weather data\n",
    "air_quality_fg = fs.get_feature_group(name=\"stockholm_air_quality\", version=1)\n",
    "weather_fg = fs.get_feature_group(name=\"stockholm_weather\", version=1)\n",
    "\n",
    "# Read the data from both feature groups\n",
    "air_quality_df = air_quality_fg.read()\n",
    "weather_df = weather_fg.read()\n",
    "\n",
    "# Merge the two feature groups on the 'time' column\n",
    "merged_df = air_quality_df.merge(weather_df, on=\"date\", how=\"inner\")\n",
    "\n",
    "# Select features and target for training\n",
    "features = merged_df[['temperature_2m_mean','precipitation_sum','wind_speed_10m_max','wind_direction_10m_dominant']]\n",
    "target = merged_df['pm25']\n",
    "\n",
    "merged_df\n",
    "\n"
   ]
  },
  {
   "cell_type": "code",
   "execution_count": null,
   "metadata": {},
   "outputs": [],
   "source": []
  }
 ],
 "metadata": {
  "kernelspec": {
   "display_name": "Python 3",
   "language": "python",
   "name": "python3"
  },
  "language_info": {
   "codemirror_mode": {
    "name": "ipython",
    "version": 3
   },
   "file_extension": ".py",
   "mimetype": "text/x-python",
   "name": "python",
   "nbconvert_exporter": "python",
   "pygments_lexer": "ipython3",
   "version": "3.9.5"
  }
 },
 "nbformat": 4,
 "nbformat_minor": 2
}
