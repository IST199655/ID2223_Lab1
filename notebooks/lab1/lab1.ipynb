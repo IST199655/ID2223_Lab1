{
 "cells": [
  {
   "cell_type": "markdown",
   "metadata": {},
   "source": [
    "# LAB 1"
   ]
  },
  {
   "cell_type": "code",
   "execution_count": 9,
   "metadata": {},
   "outputs": [],
   "source": [
    "import datetime\n",
    "import requests\n",
    "import pandas as pd\n",
    "import hopsworks\n",
    "import datetime\n",
    "from pathlib import Path\n",
    "from functions import util\n",
    "import json\n",
    "import re\n",
    "import os\n",
    "import warnings\n",
    "warnings.filterwarnings(\"ignore\")"
   ]
  },
  {
   "cell_type": "markdown",
   "metadata": {},
   "source": [
    "## 1.Backfill feature pipeline"
   ]
  },
  {
   "cell_type": "markdown",
   "metadata": {},
   "source": [
    "Write a backfill feature pipeline that downloads historical weather data (ideally >1\n",
    "year of data), loads a csv file with historical air quality data (downloaded from\n",
    "https://aqicn.org) and registers them as 2 Feature Groups with Hopsworks."
   ]
  },
  {
   "cell_type": "markdown",
   "metadata": {},
   "source": [
    "### 1.1 Import weather data on one year at Stockholm"
   ]
  },
  {
   "cell_type": "code",
   "execution_count": 10,
   "metadata": {},
   "outputs": [
    {
     "name": "stdout",
     "output_type": "stream",
     "text": [
      "                 time  temperature_2m  relative_humidity_2m  wind_speed_10m  \\\n",
      "0 2022-01-01 00:00:00            -0.4                    98            10.0   \n",
      "1 2022-01-01 01:00:00            -0.3                    98            11.5   \n",
      "2 2022-01-01 02:00:00             0.1                    99            16.2   \n",
      "3 2022-01-01 03:00:00             0.5                    97            17.5   \n",
      "4 2022-01-01 04:00:00             0.0                    96            17.1   \n",
      "\n",
      "   wind_direction_10m  wind_gusts_10m  \n",
      "0                 322            28.1  \n",
      "1                 314            22.0  \n",
      "2                 328            32.4  \n",
      "3                 352            35.3  \n",
      "4                 353            36.4  \n"
     ]
    }
   ],
   "source": [
    "import requests\n",
    "import pandas as pd\n",
    "import json\n",
    "\n",
    "# Coordinate of Stockholm and date of historical datas\n",
    "latitude = 59.3293\n",
    "longitude = 18.0686\n",
    "start_date = \"2022-01-01\"  # Start date of the data\n",
    "end_date = \"2022-12-31\"    # End date of the data\n",
    "\n",
    "# URL Open Meteo\n",
    "weather_url = f\"https://archive-api.open-meteo.com/v1/era5?latitude={latitude}&longitude={longitude}&start_date={start_date}&end_date={end_date}&hourly=temperature_2m,relative_humidity_2m,wind_speed_10m,wind_direction_10m,wind_gusts_10m\"\n",
    "\n",
    "#Request the datas\n",
    "response = requests.get(weather_url)\n",
    "weather_data = response.json()\n",
    "\n",
    "# convert to pd\n",
    "df_weather = pd.DataFrame({\n",
    "    \"time\": pd.to_datetime(weather_data[\"hourly\"][\"time\"]),\n",
    "    \"temperature_2m\": weather_data[\"hourly\"][\"temperature_2m\"],\n",
    "    \"relative_humidity_2m\": weather_data[\"hourly\"][\"relative_humidity_2m\"],\n",
    "    \"wind_speed_10m\": weather_data[\"hourly\"][\"wind_speed_10m\"],\n",
    "    \"wind_direction_10m\": weather_data[\"hourly\"][\"wind_direction_10m\"],\n",
    "    \"wind_gusts_10m\": weather_data[\"hourly\"][\"wind_gusts_10m\"]\n",
    "})\n",
    "\n",
    "print(df_weather.head())\n",
    "\n"
   ]
  },
  {
   "cell_type": "markdown",
   "metadata": {},
   "source": [
    "### 1.2 Import air quality data on 5 years at Stockholm"
   ]
  },
  {
   "cell_type": "code",
   "execution_count": 11,
   "metadata": {},
   "outputs": [
    {
     "data": {
      "text/html": [
       "<div>\n",
       "<style scoped>\n",
       "    .dataframe tbody tr th:only-of-type {\n",
       "        vertical-align: middle;\n",
       "    }\n",
       "\n",
       "    .dataframe tbody tr th {\n",
       "        vertical-align: top;\n",
       "    }\n",
       "\n",
       "    .dataframe thead th {\n",
       "        text-align: right;\n",
       "    }\n",
       "</style>\n",
       "<table border=\"1\" class=\"dataframe\">\n",
       "  <thead>\n",
       "    <tr style=\"text-align: right;\">\n",
       "      <th></th>\n",
       "      <th>date</th>\n",
       "      <th>pm25</th>\n",
       "      <th>pm10</th>\n",
       "      <th>no2</th>\n",
       "    </tr>\n",
       "  </thead>\n",
       "  <tbody>\n",
       "    <tr>\n",
       "      <th>0</th>\n",
       "      <td>2024-11-01</td>\n",
       "      <td>8</td>\n",
       "      <td>3</td>\n",
       "      <td>4</td>\n",
       "    </tr>\n",
       "    <tr>\n",
       "      <th>1</th>\n",
       "      <td>2024-11-02</td>\n",
       "      <td>5</td>\n",
       "      <td>3</td>\n",
       "      <td>2</td>\n",
       "    </tr>\n",
       "    <tr>\n",
       "      <th>2</th>\n",
       "      <td>2024-11-03</td>\n",
       "      <td>6</td>\n",
       "      <td>6</td>\n",
       "      <td>11</td>\n",
       "    </tr>\n",
       "    <tr>\n",
       "      <th>3</th>\n",
       "      <td>2024-11-04</td>\n",
       "      <td>7</td>\n",
       "      <td>4</td>\n",
       "      <td>7</td>\n",
       "    </tr>\n",
       "    <tr>\n",
       "      <th>4</th>\n",
       "      <td>2024-11-05</td>\n",
       "      <td>11</td>\n",
       "      <td>6</td>\n",
       "      <td>7</td>\n",
       "    </tr>\n",
       "  </tbody>\n",
       "</table>\n",
       "</div>"
      ],
      "text/plain": [
       "        date pm25 pm10 no2\n",
       "0 2024-11-01    8    3   4\n",
       "1 2024-11-02    5    3   2\n",
       "2 2024-11-03    6    6  11\n",
       "3 2024-11-04    7    4   7\n",
       "4 2024-11-05   11    6   7"
      ]
     },
     "execution_count": 11,
     "metadata": {},
     "output_type": "execute_result"
    }
   ],
   "source": [
    "air_quality_df = pd.read_csv(\"../../data/stockholm-hornsgatan 108 gata-air-quality.csv\")\n",
    "\n",
    "air_quality_df['date'] = pd.to_datetime(air_quality_df['date'], format='%Y/%m/%d')\n",
    "\n",
    "air_quality_df.head()"
   ]
  },
  {
   "cell_type": "markdown",
   "metadata": {},
   "source": [
    "### 1.3 Connection to hopsworks"
   ]
  },
  {
   "cell_type": "code",
   "execution_count": 12,
   "metadata": {},
   "outputs": [],
   "source": [
    "import hopsworks\n",
    "\n",
    "with open('../../data/hopsworks-api-key.txt', 'r') as file:\n",
    "    os.environ[\"HOPSWORKS_API_KEY\"] = file.read().rstrip()"
   ]
  },
  {
   "cell_type": "code",
   "execution_count": 13,
   "metadata": {},
   "outputs": [
    {
     "name": "stdout",
     "output_type": "stream",
     "text": [
      "Connection closed.\n",
      "Connected. Call `.close()` to terminate connection gracefully.\n"
     ]
    },
    {
     "name": "stdout",
     "output_type": "stream",
     "text": [
      "\n",
      "Multiple projects found. \n",
      "\n",
      "\t (1) ScalableMLandDeepLcourse\n",
      "\t (2) ID2223LAB1KTH\n",
      "\n",
      "Logged in to project, explore it here https://c.app.hopsworks.ai:443/p/1170582\n",
      "Connected. Call `.close()` to terminate connection gracefully.\n"
     ]
    }
   ],
   "source": [
    "\n",
    "\n",
    "project = hopsworks.login()\n",
    "fs = project.get_feature_store()\n"
   ]
  },
  {
   "cell_type": "code",
   "execution_count": 14,
   "metadata": {},
   "outputs": [
    {
     "name": "stdout",
     "output_type": "stream",
     "text": [
      "Feature Group created successfully, explore it at \n",
      "https://c.app.hopsworks.ai:443/p/1170582/fs/1161285/fg/1346976\n"
     ]
    },
    {
     "data": {
      "application/vnd.jupyter.widget-view+json": {
       "model_id": "6a7c31c852c74b92b2ec57da95a2353b",
       "version_major": 2,
       "version_minor": 0
      },
      "text/plain": [
       "Uploading Dataframe: 0.00% |          | Rows 0/8760 | Elapsed Time: 00:00 | Remaining Time: ?"
      ]
     },
     "metadata": {},
     "output_type": "display_data"
    },
    {
     "name": "stdout",
     "output_type": "stream",
     "text": [
      "Launching job: stockholm_weather_1_offline_fg_materialization\n",
      "Job started successfully, you can follow the progress at \n",
      "https://c.app.hopsworks.ai/p/1170582/jobs/named/stockholm_weather_1_offline_fg_materialization/executions\n",
      "Weather feature group created and data inserted successfully.\n"
     ]
    }
   ],
   "source": [
    "# Create a weather data feature group\n",
    "weather_fg = fs.create_feature_group(\n",
    "    name=\"stockholm_weather\",\n",
    "    version=1,\n",
    "    description=\"Weather data for Stockholm including temperature, humidity, wind speed, and wind direction\",\n",
    "    primary_key=[\"time\"],  \n",
    "    event_time=\"time\" \n",
    ")\n",
    "\n",
    "\n",
    "weather_fg.insert(df_weather)\n",
    "\n",
    "print(\"Weather feature group created and data inserted successfully.\")\n"
   ]
  },
  {
   "cell_type": "code",
   "execution_count": 15,
   "metadata": {},
   "outputs": [
    {
     "name": "stdout",
     "output_type": "stream",
     "text": [
      "Feature Group created successfully, explore it at \n",
      "https://c.app.hopsworks.ai:443/p/1170582/fs/1161285/fg/1346977\n"
     ]
    },
    {
     "data": {
      "application/vnd.jupyter.widget-view+json": {
       "model_id": "bdfda54278cc488c8bd91dde35203ce1",
       "version_major": 2,
       "version_minor": 0
      },
      "text/plain": [
       "Uploading Dataframe: 0.00% |          | Rows 0/2556 | Elapsed Time: 00:00 | Remaining Time: ?"
      ]
     },
     "metadata": {},
     "output_type": "display_data"
    },
    {
     "name": "stdout",
     "output_type": "stream",
     "text": [
      "Launching job: stockholm_air_quality_1_offline_fg_materialization\n",
      "Job started successfully, you can follow the progress at \n",
      "https://c.app.hopsworks.ai/p/1170582/jobs/named/stockholm_air_quality_1_offline_fg_materialization/executions\n",
      "Air quality feature group created and data inserted successfully.\n"
     ]
    }
   ],
   "source": [
    "# Create an air quality feature group\n",
    "air_quality_fg = fs.create_feature_group(\n",
    "    name=\"stockholm_air_quality\",\n",
    "    version=1,\n",
    "    description=\"Air quality data for Stockholm with PM2.5 concentrations\",\n",
    "    primary_key=[\"date\"],  # 'time' column as the primary key\n",
    "    event_time=\"date\"      # Specify 'time' as the event time\n",
    ")\n",
    "\n",
    "# Insert the air quality data into the feature group\n",
    "air_quality_fg.insert(air_quality_df)\n",
    "\n",
    "print(\"Air quality feature group created and data inserted successfully.\")\n"
   ]
  },
  {
   "cell_type": "code",
   "execution_count": null,
   "metadata": {},
   "outputs": [],
   "source": []
  }
 ],
 "metadata": {
  "kernelspec": {
   "display_name": "lab1_env",
   "language": "python",
   "name": "python3"
  },
  "language_info": {
   "codemirror_mode": {
    "name": "ipython",
    "version": 3
   },
   "file_extension": ".py",
   "mimetype": "text/x-python",
   "name": "python",
   "nbconvert_exporter": "python",
   "pygments_lexer": "ipython3",
   "version": "3.12.4"
  }
 },
 "nbformat": 4,
 "nbformat_minor": 2
}
