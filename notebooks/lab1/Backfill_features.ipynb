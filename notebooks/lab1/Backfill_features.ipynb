{
 "cells": [
  {
   "cell_type": "code",
   "execution_count": 1,
   "metadata": {},
   "outputs": [],
   "source": [
    "import pandas as pd\n",
    "from functions import util\n",
    "import os\n",
    "import warnings\n",
    "\n",
    "warnings.filterwarnings(\"ignore\")"
   ]
  },
  {
   "cell_type": "markdown",
   "metadata": {},
   "source": [
    "## 1.Backfill feature pipeline"
   ]
  },
  {
   "cell_type": "markdown",
   "metadata": {},
   "source": [
    "Write a backfill feature pipeline that downloads historical weather data (ideally >1\n",
    "year of data), loads a csv file with historical air quality data (downloaded from\n",
    "https://aqicn.org) and registers them as 2 Feature Groups with Hopsworks."
   ]
  },
  {
   "cell_type": "markdown",
   "metadata": {},
   "source": [
    "### 1.1 Import air quality data on 5 years at Stockholm"
   ]
  },
  {
   "cell_type": "code",
   "execution_count": 2,
   "metadata": {},
   "outputs": [
    {
     "data": {
      "text/html": [
       "<div>\n",
       "<style scoped>\n",
       "    .dataframe tbody tr th:only-of-type {\n",
       "        vertical-align: middle;\n",
       "    }\n",
       "\n",
       "    .dataframe tbody tr th {\n",
       "        vertical-align: top;\n",
       "    }\n",
       "\n",
       "    .dataframe thead th {\n",
       "        text-align: right;\n",
       "    }\n",
       "</style>\n",
       "<table border=\"1\" class=\"dataframe\">\n",
       "  <thead>\n",
       "    <tr style=\"text-align: right;\">\n",
       "      <th></th>\n",
       "      <th>date</th>\n",
       "      <th>pm25</th>\n",
       "      <th>pm10</th>\n",
       "    </tr>\n",
       "  </thead>\n",
       "  <tbody>\n",
       "    <tr>\n",
       "      <th>0</th>\n",
       "      <td>2024-11-01</td>\n",
       "      <td>8</td>\n",
       "      <td>3</td>\n",
       "    </tr>\n",
       "    <tr>\n",
       "      <th>1</th>\n",
       "      <td>2024-11-02</td>\n",
       "      <td>5</td>\n",
       "      <td>3</td>\n",
       "    </tr>\n",
       "    <tr>\n",
       "      <th>2</th>\n",
       "      <td>2024-11-03</td>\n",
       "      <td>6</td>\n",
       "      <td>6</td>\n",
       "    </tr>\n",
       "    <tr>\n",
       "      <th>3</th>\n",
       "      <td>2024-11-04</td>\n",
       "      <td>7</td>\n",
       "      <td>4</td>\n",
       "    </tr>\n",
       "    <tr>\n",
       "      <th>4</th>\n",
       "      <td>2024-11-05</td>\n",
       "      <td>11</td>\n",
       "      <td>6</td>\n",
       "    </tr>\n",
       "  </tbody>\n",
       "</table>\n",
       "</div>"
      ],
      "text/plain": [
       "        date  pm25  pm10\n",
       "0 2024-11-01     8     3\n",
       "1 2024-11-02     5     3\n",
       "2 2024-11-03     6     6\n",
       "3 2024-11-04     7     4\n",
       "4 2024-11-05    11     6"
      ]
     },
     "execution_count": 2,
     "metadata": {},
     "output_type": "execute_result"
    }
   ],
   "source": [
    "air_quality_df = pd.read_csv(\"../../data/stockholm-hornsgatan 108 gata-air-quality.csv\")\n",
    "\n",
    "air_quality_df['date'] = pd.to_datetime(air_quality_df['date'], format='%Y/%m/%d')\n",
    "\n",
    "# Handle non-numeric values in 'pm25' and 'pm10', replace them with NaN\n",
    "air_quality_df['pm25'] = pd.to_numeric(air_quality_df['pm25'], errors='coerce')\n",
    "air_quality_df['pm10'] = pd.to_numeric(air_quality_df['pm10'], errors='coerce')\n",
    "\n",
    "# Fill NaN values with 0 (or use mean or another method depending on your choice)\n",
    "air_quality_df['pm25'].fillna(0, inplace=True)\n",
    "air_quality_df['pm10'].fillna(0, inplace=True)\n",
    "\n",
    "# Convert 'pm25' and 'pm10' columns to integers\n",
    "air_quality_df['pm25'] = air_quality_df['pm25'].astype(int)\n",
    "air_quality_df['pm10'] = air_quality_df['pm10'].astype(int)\n",
    "\n",
    "\n",
    "air_quality_df = air_quality_df.drop(columns=['no2'])\n",
    "\n",
    "\n",
    "air_quality_df.head()"
   ]
  },
  {
   "cell_type": "markdown",
   "metadata": {},
   "source": [
    "### 1.2 Import weather data on one year at Stockholm"
   ]
  },
  {
   "cell_type": "code",
   "execution_count": 3,
   "metadata": {},
   "outputs": [
    {
     "name": "stdout",
     "output_type": "stream",
     "text": [
      "Coordinates 59.29701232910156°N 18.163265228271484°E\n",
      "Elevation 24.0 m asl\n",
      "Timezone None None\n",
      "Timezone difference to GMT+0 0 s\n"
     ]
    },
    {
     "data": {
      "text/html": [
       "<div>\n",
       "<style scoped>\n",
       "    .dataframe tbody tr th:only-of-type {\n",
       "        vertical-align: middle;\n",
       "    }\n",
       "\n",
       "    .dataframe tbody tr th {\n",
       "        vertical-align: top;\n",
       "    }\n",
       "\n",
       "    .dataframe thead th {\n",
       "        text-align: right;\n",
       "    }\n",
       "</style>\n",
       "<table border=\"1\" class=\"dataframe\">\n",
       "  <thead>\n",
       "    <tr style=\"text-align: right;\">\n",
       "      <th></th>\n",
       "      <th>date</th>\n",
       "      <th>temperature_2m_max</th>\n",
       "      <th>temperature_2m_min</th>\n",
       "      <th>precipitation_sum</th>\n",
       "      <th>wind_speed_10m_max</th>\n",
       "      <th>wind_direction_10m_dominant</th>\n",
       "    </tr>\n",
       "  </thead>\n",
       "  <tbody>\n",
       "    <tr>\n",
       "      <th>0</th>\n",
       "      <td>2017-10-03</td>\n",
       "      <td>14.615000</td>\n",
       "      <td>10.214999</td>\n",
       "      <td>0.500000</td>\n",
       "      <td>18.391737</td>\n",
       "      <td>209.271942</td>\n",
       "    </tr>\n",
       "    <tr>\n",
       "      <th>1</th>\n",
       "      <td>2017-10-04</td>\n",
       "      <td>13.565000</td>\n",
       "      <td>7.415000</td>\n",
       "      <td>2.900000</td>\n",
       "      <td>22.206486</td>\n",
       "      <td>248.656326</td>\n",
       "    </tr>\n",
       "    <tr>\n",
       "      <th>2</th>\n",
       "      <td>2017-10-05</td>\n",
       "      <td>11.014999</td>\n",
       "      <td>5.965000</td>\n",
       "      <td>2.600000</td>\n",
       "      <td>16.595179</td>\n",
       "      <td>306.521240</td>\n",
       "    </tr>\n",
       "    <tr>\n",
       "      <th>3</th>\n",
       "      <td>2017-10-06</td>\n",
       "      <td>11.165000</td>\n",
       "      <td>6.215000</td>\n",
       "      <td>0.500000</td>\n",
       "      <td>23.871555</td>\n",
       "      <td>320.408325</td>\n",
       "    </tr>\n",
       "    <tr>\n",
       "      <th>4</th>\n",
       "      <td>2017-10-07</td>\n",
       "      <td>8.815000</td>\n",
       "      <td>4.215000</td>\n",
       "      <td>6.300001</td>\n",
       "      <td>14.332341</td>\n",
       "      <td>343.018829</td>\n",
       "    </tr>\n",
       "    <tr>\n",
       "      <th>...</th>\n",
       "      <td>...</td>\n",
       "      <td>...</td>\n",
       "      <td>...</td>\n",
       "      <td>...</td>\n",
       "      <td>...</td>\n",
       "      <td>...</td>\n",
       "    </tr>\n",
       "    <tr>\n",
       "      <th>2595</th>\n",
       "      <td>2024-11-10</td>\n",
       "      <td>7.065000</td>\n",
       "      <td>4.415000</td>\n",
       "      <td>0.100000</td>\n",
       "      <td>9.292255</td>\n",
       "      <td>145.380463</td>\n",
       "    </tr>\n",
       "    <tr>\n",
       "      <th>2596</th>\n",
       "      <td>2024-11-11</td>\n",
       "      <td>5.665000</td>\n",
       "      <td>3.615000</td>\n",
       "      <td>1.100000</td>\n",
       "      <td>9.676569</td>\n",
       "      <td>234.773972</td>\n",
       "    </tr>\n",
       "    <tr>\n",
       "      <th>2597</th>\n",
       "      <td>2024-11-12</td>\n",
       "      <td>4.965000</td>\n",
       "      <td>1.315000</td>\n",
       "      <td>0.000000</td>\n",
       "      <td>10.990322</td>\n",
       "      <td>288.903290</td>\n",
       "    </tr>\n",
       "    <tr>\n",
       "      <th>2598</th>\n",
       "      <td>2024-11-13</td>\n",
       "      <td>5.765000</td>\n",
       "      <td>0.065000</td>\n",
       "      <td>0.000000</td>\n",
       "      <td>15.124284</td>\n",
       "      <td>238.321777</td>\n",
       "    </tr>\n",
       "    <tr>\n",
       "      <th>2599</th>\n",
       "      <td>2024-11-14</td>\n",
       "      <td>6.715000</td>\n",
       "      <td>3.065000</td>\n",
       "      <td>0.000000</td>\n",
       "      <td>15.275627</td>\n",
       "      <td>296.519409</td>\n",
       "    </tr>\n",
       "  </tbody>\n",
       "</table>\n",
       "<p>2600 rows × 6 columns</p>\n",
       "</div>"
      ],
      "text/plain": [
       "           date  temperature_2m_max  temperature_2m_min  precipitation_sum  \\\n",
       "0    2017-10-03           14.615000           10.214999           0.500000   \n",
       "1    2017-10-04           13.565000            7.415000           2.900000   \n",
       "2    2017-10-05           11.014999            5.965000           2.600000   \n",
       "3    2017-10-06           11.165000            6.215000           0.500000   \n",
       "4    2017-10-07            8.815000            4.215000           6.300001   \n",
       "...         ...                 ...                 ...                ...   \n",
       "2595 2024-11-10            7.065000            4.415000           0.100000   \n",
       "2596 2024-11-11            5.665000            3.615000           1.100000   \n",
       "2597 2024-11-12            4.965000            1.315000           0.000000   \n",
       "2598 2024-11-13            5.765000            0.065000           0.000000   \n",
       "2599 2024-11-14            6.715000            3.065000           0.000000   \n",
       "\n",
       "      wind_speed_10m_max  wind_direction_10m_dominant  \n",
       "0              18.391737                   209.271942  \n",
       "1              22.206486                   248.656326  \n",
       "2              16.595179                   306.521240  \n",
       "3              23.871555                   320.408325  \n",
       "4              14.332341                   343.018829  \n",
       "...                  ...                          ...  \n",
       "2595            9.292255                   145.380463  \n",
       "2596            9.676569                   234.773972  \n",
       "2597           10.990322                   288.903290  \n",
       "2598           15.124284                   238.321777  \n",
       "2599           15.275627                   296.519409  \n",
       "\n",
       "[2600 rows x 6 columns]"
      ]
     },
     "execution_count": 3,
     "metadata": {},
     "output_type": "execute_result"
    }
   ],
   "source": [
    "import pandas as pd\n",
    "from datetime import datetime, timedelta\n",
    "\n",
    "# Coordinates of Stockholm and date range for historical data\n",
    "latitude = 59.3293\n",
    "longitude = 18.0686\n",
    "today = datetime.today().date()\n",
    "start_date = today - timedelta(days=365)\n",
    "end_date = today - timedelta(days=2)\n",
    "\n",
    "country=\"sweden\"\n",
    "city = \"stockholm\"\n",
    "street = \"stockholm-hornsgatan-108\"\n",
    "aqicn_url=\"https://api.waqi.info/feed/@10009\"\n",
    "\n",
    "earliest_aq_date = pd.Series.min(air_quality_df['date'])\n",
    "earliest_aq_date = earliest_aq_date.strftime('%Y-%m-%d')\n",
    "\n",
    "# Calculate daily average temperature\n",
    "df_weather = util.get_historical_weather(city, earliest_aq_date, str(today), latitude, longitude)\n",
    "\n",
    "# Print the result\n",
    "df_weather = df_weather.drop(columns='city')\n",
    "\n",
    "df_weather\n",
    "\n"
   ]
  },
  {
   "cell_type": "markdown",
   "metadata": {},
   "source": [
    "### 1.3 Connection to hopsworks"
   ]
  },
  {
   "cell_type": "code",
   "execution_count": 4,
   "metadata": {},
   "outputs": [],
   "source": [
    "import hopsworks\n",
    "\n",
    "with open('../../data/hopsworks-api-key.txt', 'r') as file:\n",
    "    os.environ[\"HOPSWORKS_API_KEY\"] = file.read().rstrip()"
   ]
  },
  {
   "cell_type": "code",
   "execution_count": 5,
   "metadata": {},
   "outputs": [
    {
     "name": "stdout",
     "output_type": "stream",
     "text": [
      "Connected. Call `.close()` to terminate connection gracefully.\n",
      "\n",
      "Logged in to project, explore it here https://c.app.hopsworks.ai:443/p/1170583\n",
      "2024-11-16 11:58:13,998 WARNING: using legacy validation callback\n",
      "Connected. Call `.close()` to terminate connection gracefully.\n"
     ]
    }
   ],
   "source": [
    "project = hopsworks.login(project=\"ID2223LAB1KTH\")\n",
    "fs = project.get_feature_store()"
   ]
  },
  {
   "cell_type": "code",
   "execution_count": 6,
   "metadata": {},
   "outputs": [
    {
     "name": "stdout",
     "output_type": "stream",
     "text": [
      "Weather feature group created and data inserted successfully.\n"
     ]
    }
   ],
   "source": [
    "# Create a weather data feature group\n",
    "weather_fg = fs.get_or_create_feature_group(\n",
    "    name=\"stockholm_weather\",\n",
    "    version=1,\n",
    "    description=\"Weather data for Stockholm including temperature, humidity, wind speed, and wind direction\",\n",
    "    primary_key=[\"date\"],  \n",
    "    event_time=\"date\" \n",
    ")\n",
    "\n",
    "\n",
    "#weather_fg.insert(df_weather)\n",
    "\n",
    "print(\"Weather feature group created and data inserted successfully.\")\n"
   ]
  },
  {
   "cell_type": "code",
   "execution_count": 7,
   "metadata": {},
   "outputs": [
    {
     "name": "stdout",
     "output_type": "stream",
     "text": [
      "Air quality feature group created and data inserted successfully.\n"
     ]
    }
   ],
   "source": [
    "\n",
    "air_quality_fg = fs.get_or_create_feature_group(\n",
    "    name=\"stockholm_air_quality\",\n",
    "    version=1,\n",
    "    description=\"Air quality data for Stockholm with PM2.5 concentrations\",\n",
    "    primary_key=[\"date\"],  # 'time' column as the primary key\n",
    "    event_time=\"date\"      # Specify 'time' as the event time\n",
    ")\n",
    "\n",
    "\n",
    "#air_quality_fg.insert(air_quality_df)\n",
    "\n",
    "print(\"Air quality feature group created and data inserted successfully.\")\n"
   ]
  }
 ],
 "metadata": {
  "kernelspec": {
   "display_name": ".venv",
   "language": "python",
   "name": "python3"
  },
  "language_info": {
   "codemirror_mode": {
    "name": "ipython",
    "version": 3
   },
   "file_extension": ".py",
   "mimetype": "text/x-python",
   "name": "python",
   "nbconvert_exporter": "python",
   "pygments_lexer": "ipython3",
   "version": "3.12.2"
  }
 },
 "nbformat": 4,
 "nbformat_minor": 2
}
