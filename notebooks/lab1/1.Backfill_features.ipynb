{
 "cells": [
  {
   "cell_type": "code",
   "execution_count": 18,
   "metadata": {},
   "outputs": [],
   "source": [
    "import pandas as pd\n",
    "from functions import util\n",
    "import os\n",
    "import warnings\n",
    "\n",
    "warnings.filterwarnings(\"ignore\")"
   ]
  },
  {
   "cell_type": "markdown",
   "metadata": {},
   "source": [
    "## 1.Backfill feature pipeline"
   ]
  },
  {
   "cell_type": "markdown",
   "metadata": {},
   "source": [
    "Write a backfill feature pipeline that downloads historical weather data (ideally >1\n",
    "year of data), loads a csv file with historical air quality data (downloaded from\n",
    "https://aqicn.org) and registers them as 2 Feature Groups with Hopsworks."
   ]
  },
  {
   "cell_type": "markdown",
   "metadata": {},
   "source": [
    "### 1.1 Import air quality data on 5 years at Stockholm"
   ]
  },
  {
   "cell_type": "code",
   "execution_count": 19,
   "metadata": {},
   "outputs": [
    {
     "data": {
      "text/html": [
       "<div>\n",
       "<style scoped>\n",
       "    .dataframe tbody tr th:only-of-type {\n",
       "        vertical-align: middle;\n",
       "    }\n",
       "\n",
       "    .dataframe tbody tr th {\n",
       "        vertical-align: top;\n",
       "    }\n",
       "\n",
       "    .dataframe thead th {\n",
       "        text-align: right;\n",
       "    }\n",
       "</style>\n",
       "<table border=\"1\" class=\"dataframe\">\n",
       "  <thead>\n",
       "    <tr style=\"text-align: right;\">\n",
       "      <th></th>\n",
       "      <th>date</th>\n",
       "      <th>pm25</th>\n",
       "      <th>pm10</th>\n",
       "    </tr>\n",
       "  </thead>\n",
       "  <tbody>\n",
       "    <tr>\n",
       "      <th>0</th>\n",
       "      <td>2024-04-01</td>\n",
       "      <td>29</td>\n",
       "      <td>6</td>\n",
       "    </tr>\n",
       "    <tr>\n",
       "      <th>1</th>\n",
       "      <td>2024-04-02</td>\n",
       "      <td>16</td>\n",
       "      <td>4</td>\n",
       "    </tr>\n",
       "    <tr>\n",
       "      <th>2</th>\n",
       "      <td>2024-04-03</td>\n",
       "      <td>9</td>\n",
       "      <td>8</td>\n",
       "    </tr>\n",
       "    <tr>\n",
       "      <th>3</th>\n",
       "      <td>2024-04-04</td>\n",
       "      <td>11</td>\n",
       "      <td>4</td>\n",
       "    </tr>\n",
       "    <tr>\n",
       "      <th>4</th>\n",
       "      <td>2024-04-05</td>\n",
       "      <td>13</td>\n",
       "      <td>6</td>\n",
       "    </tr>\n",
       "  </tbody>\n",
       "</table>\n",
       "</div>"
      ],
      "text/plain": [
       "        date  pm25  pm10\n",
       "0 2024-04-01    29     6\n",
       "1 2024-04-02    16     4\n",
       "2 2024-04-03     9     8\n",
       "3 2024-04-04    11     4\n",
       "4 2024-04-05    13     6"
      ]
     },
     "execution_count": 19,
     "metadata": {},
     "output_type": "execute_result"
    }
   ],
   "source": [
    "air_quality_df = pd.read_csv(\"../../data/solna-råsundavägen_107-air-quality.csv\")\n",
    "air_quality_df.columns = [x.strip() for x in air_quality_df.columns]\n",
    "\n",
    "air_quality_df['date'] = pd.to_datetime(air_quality_df['date'], format='%Y/%m/%d')\n",
    "\n",
    "# Handle non-numeric values in 'pm25' and 'pm10', replace them with NaN\n",
    "air_quality_df['pm25'] = pd.to_numeric(air_quality_df['pm25'], errors='coerce')\n",
    "air_quality_df['pm10'] = pd.to_numeric(air_quality_df['pm10'], errors='coerce')\n",
    "\n",
    "# Fill NaN values with 0 (or use mean or another method depending on your choice)\n",
    "air_quality_df['pm25'].fillna(0, inplace=True)\n",
    "air_quality_df['pm10'].fillna(0, inplace=True)\n",
    "\n",
    "# Convert 'pm25' and 'pm10' columns to integers\n",
    "air_quality_df['pm25'] = air_quality_df['pm25'].astype(int)\n",
    "air_quality_df['pm10'] = air_quality_df['pm10'].astype(int)\n",
    "\n",
    "\n",
    "air_quality_df = air_quality_df.drop(columns=['no2'])\n",
    "\n",
    "air_quality_df.head()"
   ]
  },
  {
   "cell_type": "markdown",
   "metadata": {},
   "source": [
    "### 1.2 Import weather data on one year at Stockholm"
   ]
  },
  {
   "cell_type": "code",
   "execution_count": 20,
   "metadata": {},
   "outputs": [
    {
     "name": "stdout",
     "output_type": "stream",
     "text": [
      "Coordinates 59.3673095703125°N 18.0°E\n",
      "Elevation 16.0 m asl\n",
      "Timezone None None\n",
      "Timezone difference to GMT+0 0 s\n"
     ]
    },
    {
     "data": {
      "text/html": [
       "<div>\n",
       "<style scoped>\n",
       "    .dataframe tbody tr th:only-of-type {\n",
       "        vertical-align: middle;\n",
       "    }\n",
       "\n",
       "    .dataframe tbody tr th {\n",
       "        vertical-align: top;\n",
       "    }\n",
       "\n",
       "    .dataframe thead th {\n",
       "        text-align: right;\n",
       "    }\n",
       "</style>\n",
       "<table border=\"1\" class=\"dataframe\">\n",
       "  <thead>\n",
       "    <tr style=\"text-align: right;\">\n",
       "      <th></th>\n",
       "      <th>date</th>\n",
       "      <th>temperature_2m_max</th>\n",
       "      <th>temperature_2m_min</th>\n",
       "      <th>precipitation_sum</th>\n",
       "      <th>wind_speed_10m_max</th>\n",
       "      <th>wind_direction_10m_dominant</th>\n",
       "    </tr>\n",
       "  </thead>\n",
       "  <tbody>\n",
       "    <tr>\n",
       "      <th>0</th>\n",
       "      <td>2022-09-01</td>\n",
       "      <td>15.271500</td>\n",
       "      <td>7.4215</td>\n",
       "      <td>0.2</td>\n",
       "      <td>15.844090</td>\n",
       "      <td>345.856476</td>\n",
       "    </tr>\n",
       "    <tr>\n",
       "      <th>1</th>\n",
       "      <td>2022-09-02</td>\n",
       "      <td>13.871500</td>\n",
       "      <td>6.2215</td>\n",
       "      <td>0.8</td>\n",
       "      <td>14.440443</td>\n",
       "      <td>353.648407</td>\n",
       "    </tr>\n",
       "    <tr>\n",
       "      <th>2</th>\n",
       "      <td>2022-09-03</td>\n",
       "      <td>12.121500</td>\n",
       "      <td>5.6715</td>\n",
       "      <td>1.2</td>\n",
       "      <td>6.109403</td>\n",
       "      <td>325.175446</td>\n",
       "    </tr>\n",
       "    <tr>\n",
       "      <th>3</th>\n",
       "      <td>2022-09-04</td>\n",
       "      <td>15.621500</td>\n",
       "      <td>5.5215</td>\n",
       "      <td>0.2</td>\n",
       "      <td>9.720000</td>\n",
       "      <td>44.154472</td>\n",
       "    </tr>\n",
       "    <tr>\n",
       "      <th>4</th>\n",
       "      <td>2022-09-05</td>\n",
       "      <td>15.721499</td>\n",
       "      <td>3.6715</td>\n",
       "      <td>0.0</td>\n",
       "      <td>12.069400</td>\n",
       "      <td>334.778839</td>\n",
       "    </tr>\n",
       "    <tr>\n",
       "      <th>...</th>\n",
       "      <td>...</td>\n",
       "      <td>...</td>\n",
       "      <td>...</td>\n",
       "      <td>...</td>\n",
       "      <td>...</td>\n",
       "      <td>...</td>\n",
       "    </tr>\n",
       "    <tr>\n",
       "      <th>801</th>\n",
       "      <td>2024-11-10</td>\n",
       "      <td>6.771500</td>\n",
       "      <td>4.4215</td>\n",
       "      <td>0.0</td>\n",
       "      <td>9.102021</td>\n",
       "      <td>139.972229</td>\n",
       "    </tr>\n",
       "    <tr>\n",
       "      <th>802</th>\n",
       "      <td>2024-11-11</td>\n",
       "      <td>5.721500</td>\n",
       "      <td>3.8715</td>\n",
       "      <td>2.7</td>\n",
       "      <td>10.028439</td>\n",
       "      <td>236.030014</td>\n",
       "    </tr>\n",
       "    <tr>\n",
       "      <th>803</th>\n",
       "      <td>2024-11-12</td>\n",
       "      <td>5.021500</td>\n",
       "      <td>0.8215</td>\n",
       "      <td>0.0</td>\n",
       "      <td>10.196647</td>\n",
       "      <td>286.209778</td>\n",
       "    </tr>\n",
       "    <tr>\n",
       "      <th>804</th>\n",
       "      <td>2024-11-13</td>\n",
       "      <td>5.821500</td>\n",
       "      <td>0.3215</td>\n",
       "      <td>0.0</td>\n",
       "      <td>15.156384</td>\n",
       "      <td>239.627930</td>\n",
       "    </tr>\n",
       "    <tr>\n",
       "      <th>805</th>\n",
       "      <td>2024-11-14</td>\n",
       "      <td>6.921500</td>\n",
       "      <td>2.7715</td>\n",
       "      <td>0.0</td>\n",
       "      <td>18.000898</td>\n",
       "      <td>296.312195</td>\n",
       "    </tr>\n",
       "  </tbody>\n",
       "</table>\n",
       "<p>806 rows × 6 columns</p>\n",
       "</div>"
      ],
      "text/plain": [
       "          date  temperature_2m_max  temperature_2m_min  precipitation_sum  \\\n",
       "0   2022-09-01           15.271500              7.4215                0.2   \n",
       "1   2022-09-02           13.871500              6.2215                0.8   \n",
       "2   2022-09-03           12.121500              5.6715                1.2   \n",
       "3   2022-09-04           15.621500              5.5215                0.2   \n",
       "4   2022-09-05           15.721499              3.6715                0.0   \n",
       "..         ...                 ...                 ...                ...   \n",
       "801 2024-11-10            6.771500              4.4215                0.0   \n",
       "802 2024-11-11            5.721500              3.8715                2.7   \n",
       "803 2024-11-12            5.021500              0.8215                0.0   \n",
       "804 2024-11-13            5.821500              0.3215                0.0   \n",
       "805 2024-11-14            6.921500              2.7715                0.0   \n",
       "\n",
       "     wind_speed_10m_max  wind_direction_10m_dominant  \n",
       "0             15.844090                   345.856476  \n",
       "1             14.440443                   353.648407  \n",
       "2              6.109403                   325.175446  \n",
       "3              9.720000                    44.154472  \n",
       "4             12.069400                   334.778839  \n",
       "..                  ...                          ...  \n",
       "801            9.102021                   139.972229  \n",
       "802           10.028439                   236.030014  \n",
       "803           10.196647                   286.209778  \n",
       "804           15.156384                   239.627930  \n",
       "805           18.000898                   296.312195  \n",
       "\n",
       "[806 rows x 6 columns]"
      ]
     },
     "execution_count": 20,
     "metadata": {},
     "output_type": "execute_result"
    }
   ],
   "source": [
    "import pandas as pd\n",
    "from datetime import datetime, timedelta\n",
    "\n",
    "# Coordinates of Stockholm and date range for historical data\n",
    "latitude = 59.36056\n",
    "longitude = 17.99824\n",
    "today = datetime.today().date()\n",
    "start_date = today - timedelta(days=365)\n",
    "end_date = today - timedelta(days=2)\n",
    "\n",
    "country=\"sweden\"\n",
    "city = \"solna\"\n",
    "street = \"solna-rasundavagen-107\"\n",
    "aqicn_url=\"https://api.waqi.info/feed/@13988\"\n",
    "\n",
    "earliest_aq_date = pd.Series.min(air_quality_df['date'])\n",
    "earliest_aq_date = earliest_aq_date.strftime('%Y-%m-%d')\n",
    "\n",
    "# Calculate daily average temperature\n",
    "df_weather = util.get_historical_weather(city, earliest_aq_date, str(today), latitude, longitude)\n",
    "\n",
    "# Print the result\n",
    "df_weather = df_weather.drop(columns='city')\n",
    "\n",
    "df_weather\n"
   ]
  },
  {
   "cell_type": "markdown",
   "metadata": {},
   "source": [
    "### 1.3 Connection to hopsworks"
   ]
  },
  {
   "cell_type": "code",
   "execution_count": 21,
   "metadata": {},
   "outputs": [],
   "source": [
    "import hopsworks\n",
    "\n",
    "with open('../../data/hopsworks-api-key.txt', 'r') as file:\n",
    "    os.environ[\"HOPSWORKS_API_KEY\"] = file.read().rstrip()"
   ]
  },
  {
   "cell_type": "code",
   "execution_count": 22,
   "metadata": {},
   "outputs": [
    {
     "name": "stdout",
     "output_type": "stream",
     "text": [
      "Connected. Call `.close()` to terminate connection gracefully.\n"
     ]
    },
    {
     "name": "stdout",
     "output_type": "stream",
     "text": [
      "\n",
      "Logged in to project, explore it here https://c.app.hopsworks.ai:443/p/1170583\n",
      "2024-11-16 18:51:21,233 WARNING: using legacy validation callback\n",
      "Connected. Call `.close()` to terminate connection gracefully.\n"
     ]
    }
   ],
   "source": [
    "project = hopsworks.login(project=\"ID2223LAB1KTH\")\n",
    "fs = project.get_feature_store()"
   ]
  },
  {
   "cell_type": "markdown",
   "metadata": {},
   "source": [
    "### 1.4 Create feature groups and insert data"
   ]
  },
  {
   "cell_type": "code",
   "execution_count": 23,
   "metadata": {},
   "outputs": [
    {
     "data": {
      "application/vnd.jupyter.widget-view+json": {
       "model_id": "b527efa7996f4176b16210771a9dddfd",
       "version_major": 2,
       "version_minor": 0
      },
      "text/plain": [
       "Uploading Dataframe: 0.00% |          | Rows 0/806 | Elapsed Time: 00:00 | Remaining Time: ?"
      ]
     },
     "metadata": {},
     "output_type": "display_data"
    },
    {
     "name": "stdout",
     "output_type": "stream",
     "text": [
      "Launching job: stockholm_weather_1_offline_fg_materialization\n",
      "Job started successfully, you can follow the progress at \n",
      "https://c.app.hopsworks.ai/p/1170583/jobs/named/stockholm_weather_1_offline_fg_materialization/executions\n",
      "Weather feature group created and data inserted successfully.\n"
     ]
    }
   ],
   "source": [
    "# Create a weather data feature group\n",
    "weather_fg = fs.get_or_create_feature_group(\n",
    "    name=\"stockholm_weather\",\n",
    "    version=1,\n",
    "    description=\"Weather data for Stockholm including temperature, humidity, wind speed, and wind direction\",\n",
    "    primary_key=[\"date\"],  \n",
    "    event_time=\"date\" \n",
    ")\n",
    "\n",
    "\n",
    "weather_fg.insert(df_weather)\n",
    "\n",
    "print(\"Weather feature group created and data inserted successfully.\")\n"
   ]
  },
  {
   "cell_type": "code",
   "execution_count": 24,
   "metadata": {},
   "outputs": [
    {
     "data": {
      "application/vnd.jupyter.widget-view+json": {
       "model_id": "37127ce6e97247f49bb7af3df361e32a",
       "version_major": 2,
       "version_minor": 0
      },
      "text/plain": [
       "Uploading Dataframe: 0.00% |          | Rows 0/572 | Elapsed Time: 00:00 | Remaining Time: ?"
      ]
     },
     "metadata": {},
     "output_type": "display_data"
    },
    {
     "name": "stdout",
     "output_type": "stream",
     "text": [
      "Launching job: stockholm_air_quality_1_offline_fg_materialization\n",
      "Job started successfully, you can follow the progress at \n",
      "https://c.app.hopsworks.ai/p/1170583/jobs/named/stockholm_air_quality_1_offline_fg_materialization/executions\n",
      "Air quality feature group created and data inserted successfully.\n"
     ]
    }
   ],
   "source": [
    "\n",
    "air_quality_fg = fs.get_or_create_feature_group(\n",
    "    name=\"stockholm_air_quality\",\n",
    "    version=1,\n",
    "    description=\"Air quality data for Stockholm with PM2.5 concentrations\",\n",
    "    primary_key=[\"date\"],  # 'time' column as the primary key\n",
    "    event_time=\"date\"      # Specify 'time' as the event time\n",
    ")\n",
    "\n",
    "\n",
    "air_quality_fg.insert(air_quality_df)\n",
    "\n",
    "print(\"Air quality feature group created and data inserted successfully.\")\n"
   ]
  },
  {
   "cell_type": "markdown",
   "metadata": {},
   "source": [
    "## 2. Schedule a daily feature pipeline"
   ]
  },
  {
   "cell_type": "markdown",
   "metadata": {},
   "source": [
    "In .github/workflows"
   ]
  }
 ],
 "metadata": {
  "kernelspec": {
   "display_name": ".venv",
   "language": "python",
   "name": "python3"
  },
  "language_info": {
   "codemirror_mode": {
    "name": "ipython",
    "version": 3
   },
   "file_extension": ".py",
   "mimetype": "text/x-python",
   "name": "python",
   "nbconvert_exporter": "python",
   "pygments_lexer": "ipython3",
   "version": "3.12.2"
  }
 },
 "nbformat": 4,
 "nbformat_minor": 2
}
